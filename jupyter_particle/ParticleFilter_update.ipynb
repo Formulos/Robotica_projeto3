{
 "cells": [
  {
   "cell_type": "markdown",
   "metadata": {
    "deletable": true,
    "editable": true
   },
   "source": [
    "# Filtro de partículas\n",
    "\n",
    "\n",
    "Cada partícula vai ser representada por uma lista [x,y,theta]\n",
    "\n",
    "Trabalhe com 2 listas:\n",
    "\n",
    "\tS = []  # Vai conter as n partículas. \n",
    "\n",
    "\tW = [] # Pesos das partículas\n",
    "\n",
    "\tn_part = # Número de partículas\n",
    "\n",
    "\n",
    "# Atividades\n",
    "\n",
    "\n",
    "1. Crie uma função que gere n partículas aleatórias distribuidas uniformemente dentro de uma área minx, miny, maxx, maxy (passados como parâmetros). Veja a funcao \n",
    "\n",
    "\tDevolve uma lista com n partículas\n",
    "\n",
    "2. Descubra como desenhar as n partículas (analise o módulo inspercles)\n",
    "\n",
    "3. Faça o desenho das partículas\n",
    "\n",
    "4. Crie uma lista para simular os movimentos do robô. Veja a lista chamada <code>movimentos</code> que é usada na seção *Teste de animação*, mais abaixo\n",
    "\n",
    "5. Crie uma função que aplica um deslocamento [delta_x, delta_y, delta_theta] com um desvio padrão [std_x, std_y, std_theta] a todas as partículas\n",
    "\n",
    "6. Desenhe as partículas após o deslocamento\n",
    "\n",
    "7. Descubra como calcular $P(D|H)$ analisando o Python Notebook. A função que traça os raios está no modulo inspercles\n",
    "\n",
    "Programe a aplicação da equação que está na pág. 853 do livro do Norvig $$P(z_t | x_t) = \\alpha \\prod_{j}^M{e^{\\frac{-(z_j - \\hat{z_j})}{2\\sigma^2}}}$$\n",
    "\n",
    "Ou seja, para cada raio estimado $\\hat{z_j}$ e leitura real $z_j$ calcule a probabilidade daquele raio ter acontecido dado que a posição do robô fosse de fato a da partícula\n",
    "\n",
    "\n",
    "8 . Usando os resultados de 7 calcule $P(H|D)$ e insira numa lista de probabilidades das partículas\n",
    "\n",
    "9 . Reamostre as partículas de forma proporcional à probabilidade\n",
    "\n"
   ]
  },
  {
   "cell_type": "code",
   "execution_count": 1,
   "metadata": {
    "collapsed": false,
    "deletable": true,
    "editable": true
   },
   "outputs": [],
   "source": [
    "from random import randint, choice\n",
    "import time\n",
    "import matplotlib.pyplot as plt\n",
    "import matplotlib.patches as mpatches\n",
    "import numpy as np\n",
    "import math\n",
    "import random\n",
    "from pf import Particle\n",
    "from nav_msgs.msg import OccupancyGrid\n",
    "from occupancy_field import OccupancyField\n",
    "from helper_functions import angle_normalize, angle_diff\n",
    "\n",
    "import cv2\n",
    "\n",
    "import sys\n",
    "import os\n",
    "os.getcwd() \n",
    "import sys\n",
    "sys.path.append(os.getcwd())\n",
    "\n",
    "import fun\n",
    "reload(fun)\n",
    "\n",
    "import inspercles\n",
    "reload(inspercles)\n",
    "\n",
    "\n",
    "\n",
    "\n",
    "\n",
    "# Para suprimir alguns warnings do Matplotlib Inline\n",
    "import warnings\n",
    "warnings.simplefilter('ignore')\n",
    "%matplotlib inline\n"
   ]
  },
  {
   "cell_type": "code",
   "execution_count": 2,
   "metadata": {
    "collapsed": false,
    "deletable": true,
    "editable": true
   },
   "outputs": [],
   "source": [
    "n_part = 40\n",
    "minx = 100\n",
    "miny = 100\n",
    "maxy = 300\n",
    "maxx = 300\n"
   ]
  },
  {
   "cell_type": "markdown",
   "metadata": {
    "deletable": true,
    "editable": true
   },
   "source": [
    "## Diretõrio de trabalho"
   ]
  },
  {
   "cell_type": "code",
   "execution_count": 3,
   "metadata": {
    "collapsed": false,
    "deletable": true,
    "editable": true
   },
   "outputs": [
    {
     "name": "stdout",
     "output_type": "stream",
     "text": [
      "/home/borg/catkin_ws/src/robot17/particle_filter/jupyter_particle\r\n"
     ]
    }
   ],
   "source": [
    "!pwd\n",
    "\n",
    "\n"
   ]
  },
  {
   "cell_type": "code",
   "execution_count": 4,
   "metadata": {
    "collapsed": true,
    "deletable": true,
    "editable": true
   },
   "outputs": [],
   "source": [
    "# Dados do arquivo mapa.yaml\n",
    "\n",
    "resolution = 0.020000\n",
    "origin =  [-5.000000, -5.000000, 0.000000]\n",
    "occupied_thresh = 0.8\n",
    "free_thresh =  0.2\n",
    "\n",
    "inspercles.free_thresh = free_thresh # Limiar em tons de cinza para que uma celula seja considerada livre\n",
    "inspercles.occupied_thresh = occupied_thresh # Limiar de celula ocupada\n",
    "inspercles.origin = origin\n",
    "inspercles.resolution = resolution\n"
   ]
  },
  {
   "cell_type": "code",
   "execution_count": 5,
   "metadata": {
    "collapsed": true,
    "deletable": true,
    "editable": true
   },
   "outputs": [],
   "source": [
    "\n",
    "\n",
    "from PIL import Image as PilImage\n",
    "\n",
    "\n",
    "color_image = cv2.imread(\"sparse_obstacles.png\")\n",
    "pil_image = color_image\n",
    "np_image = cv2.cvtColor(color_image, cv2.COLOR_BGR2GRAY)\n",
    "\n",
    "\n",
    "#color_image = PilImage.open(\"sparse_obstacles.png\", 'r')\n",
    "#pil_image = color_image.convert('1') # Converte a imagem PIL para Grayscale\n",
    "#np_image = np.asarray(pil_image)\n",
    "\n",
    "particle_size = 10\n",
    "\n",
    "#import matplotlib_render as plotmap\n",
    "\n",
    "\n",
    "back_color = \"black\"\n",
    "colors     = ['red', 'green', 'cyan', 'yellow']\n",
    "width, height = 775, 746\n",
    "\n",
    "inspercles.width = width\n",
    "inspercles.height = height\n",
    "\n",
    "\n",
    "\n",
    "\n",
    "initial_pose = [200, 200, math.pi/8] # Posicao inicial considerada para o pf\n",
    "inspercles.initial_pose = initial_pose\n",
    "pose = [330, 220, math.radians(90)] # posicao \"verdadeira\" do robo \n",
    "inspercles.pose = pose\n",
    "robot_radius=10   # Raio do robo\n",
    "inspercles.robot_radius = robot_radius\n",
    "\n",
    "\n",
    "# Os angulos em que o robo simulado vai ter sensores\n",
    "angles = np.linspace(0.0, 2*math.pi, num=8)\n",
    "\n",
    "particle_cloud = []\n",
    "\n",
    "\n",
    "\n",
    "    \n",
    "    \n",
    "    \n",
    "    "
   ]
  },
  {
   "cell_type": "markdown",
   "metadata": {
    "deletable": true,
    "editable": true
   },
   "source": [
    "## Mapa com posição inicial"
   ]
  },
  {
   "cell_type": "code",
   "execution_count": 6,
   "metadata": {
    "collapsed": false,
    "deletable": true,
    "editable": true
   },
   "outputs": [
    {
     "data": {
      "text/plain": [
       "<matplotlib.axes._subplots.AxesSubplot at 0x7f71b4f1a0d0>"
      ]
     },
     "execution_count": 6,
     "metadata": {},
     "output_type": "execute_result"
    },
    {
     "data": {
      "image/png": "[encoded data removed]",
      "text/plain": [
       "<matplotlib.figure.Figure at 0x7f7181119c10>"
      ]
     },
     "metadata": {},
     "output_type": "display_data"
    }
   ],
   "source": [
    "particulas,pos_particles = fun.randow_particle(n_part,minx, miny, maxx, maxy)\n",
    "\n",
    "inspercles.nb_draw_map(color_image,particulas)"
   ]
  },
  {
   "cell_type": "markdown",
   "metadata": {
    "deletable": true,
    "editable": true
   },
   "source": [
    "A função *nb_initialize_particle_cloud()* pertence ao módulo <code>inspercles</code> e já faz uma primeira aleatorização das partículas"
   ]
  },
  {
   "cell_type": "code",
   "execution_count": 7,
   "metadata": {
    "collapsed": true,
    "deletable": true,
    "editable": true
   },
   "outputs": [],
   "source": [
    "# Inicializa as particulas\n",
    "#particulas = inspercles.nb_initialize_particle_cloud()"
   ]
  },
  {
   "cell_type": "code",
   "execution_count": 8,
   "metadata": {
    "collapsed": false,
    "deletable": true,
    "editable": true,
    "scrolled": false
   },
   "outputs": [
    {
     "data": {
      "text/plain": [
       "<matplotlib.axes._subplots.AxesSubplot at 0x7f71b4f1a190>"
      ]
     },
     "execution_count": 8,
     "metadata": {},
     "output_type": "execute_result"
    },
    {
     "data": {
      "image/png": "[encoded data removed]",
      "text/plain": [
       "<matplotlib.figure.Figure at 0x7f718112bfd0>"
      ]
     },
     "metadata": {},
     "output_type": "display_data"
    }
   ],
   "source": [
    "inspercles.nb_draw_map(color_image, particles = particulas, initial_position = initial_pose, pose=pose, robot=True)"
   ]
  },
  {
   "cell_type": "code",
   "execution_count": 9,
   "metadata": {
    "collapsed": false,
    "deletable": true,
    "editable": true
   },
   "outputs": [
    {
     "data": {
      "text/plain": [
       "array([ 0.        ,  0.8975979 ,  1.7951958 ,  2.6927937 ,  3.5903916 ,\n",
       "        4.48798951,  5.38558741,  6.28318531])"
      ]
     },
     "execution_count": 9,
     "metadata": {},
     "output_type": "execute_result"
    }
   ],
   "source": [
    "angles"
   ]
  },
  {
   "cell_type": "markdown",
   "metadata": {
    "deletable": true,
    "editable": true
   },
   "source": [
    "# Simulação da imagem do laser"
   ]
  },
  {
   "cell_type": "markdown",
   "metadata": {
    "deletable": true,
    "editable": true
   },
   "source": [
    "Para simular a leitura **real** do robo, use *nb_simulate_lidar* passando a posição real do robô, os ângulos do sensor e a np_image com o mapa"
   ]
  },
  {
   "cell_type": "code",
   "execution_count": 10,
   "metadata": {
    "collapsed": true,
    "deletable": true,
    "editable": true
   },
   "outputs": [],
   "source": [
    "leituras, lidar_map = inspercles.nb_simulate_lidar(pose, angles, np_image)\n"
   ]
  },
  {
   "cell_type": "code",
   "execution_count": 11,
   "metadata": {
    "collapsed": false,
    "deletable": true,
    "editable": true
   },
   "outputs": [
    {
     "data": {
      "text/plain": [
       "{0.0: 187.0,\n",
       " 0.89759790102565518: 57.0087712549569,\n",
       " 1.7951958020513104: 313.90444405901616,\n",
       " 2.6927937030769655: 59.033888572581766,\n",
       " 3.5903916041026207: 218.27734651126764,\n",
       " 4.4879895051282759: 198.17668884104407,\n",
       " 5.3855874061539311: 74.02702209328699,\n",
       " 6.2831853071795862: 187.0}"
      ]
     },
     "execution_count": 11,
     "metadata": {},
     "output_type": "execute_result"
    }
   ],
   "source": [
    "leituras"
   ]
  },
  {
   "cell_type": "code",
   "execution_count": 12,
   "metadata": {
    "collapsed": false,
    "deletable": true,
    "editable": true,
    "scrolled": true
   },
   "outputs": [
    {
     "data": {
      "text/plain": [
       "<matplotlib.image.AxesImage at 0x7f716d892150>"
      ]
     },
     "execution_count": 12,
     "metadata": {},
     "output_type": "execute_result"
    },
    {
     "data": {
      "image/png": "[encoded data removed]",
      "text/plain": [
       "<matplotlib.figure.Figure at 0x7f716d8922d0>"
      ]
     },
     "metadata": {},
     "output_type": "display_data"
    }
   ],
   "source": [
    "ax = inspercles.nb_draw_map(lidar_map, robot=True, pose=pose)\n",
    "ax.imshow(color_image, alpha=0.8)\n",
    "#nb_draw_map(occupancy_image)"
   ]
  },
  {
   "cell_type": "markdown",
   "metadata": {
    "deletable": true,
    "editable": true
   },
   "source": [
    "As leituras serao retornadas pela simulacao do lidar. Sao armazenadas na forma de um dicionario com angulo: valor da leitura"
   ]
  },
  {
   "cell_type": "code",
   "execution_count": 13,
   "metadata": {
    "collapsed": false,
    "deletable": true,
    "editable": true
   },
   "outputs": [
    {
     "data": {
      "text/plain": [
       "{0.0: 187.0,\n",
       " 0.89759790102565518: 57.0087712549569,\n",
       " 1.7951958020513104: 313.90444405901616,\n",
       " 2.6927937030769655: 59.033888572581766,\n",
       " 3.5903916041026207: 218.27734651126764,\n",
       " 4.4879895051282759: 198.17668884104407,\n",
       " 5.3855874061539311: 74.02702209328699,\n",
       " 6.2831853071795862: 187.0}"
      ]
     },
     "execution_count": 13,
     "metadata": {},
     "output_type": "execute_result"
    }
   ],
   "source": [
    "# As predicoes teoricas das leituras\n",
    "leituras"
   ]
  },
  {
   "cell_type": "code",
   "execution_count": 14,
   "metadata": {
    "collapsed": false,
    "deletable": true,
    "editable": true
   },
   "outputs": [
    {
     "data": {
      "text/plain": [
       "<matplotlib.image.AxesImage at 0x7f716d7c9750>"
      ]
     },
     "execution_count": 14,
     "metadata": {},
     "output_type": "execute_result"
    },
    {
     "data": {
      "image/png": "[encoded data removed]",
      "text/plain": [
       "<matplotlib.figure.Figure at 0x7f716d7c9610>"
      ]
     },
     "metadata": {},
     "output_type": "display_data"
    }
   ],
   "source": [
    "ax = inspercles.nb_draw_map(lidar_map, pose=pose, robot=True)\n",
    "#ax.imshow(occupancy_image, alpha=0.2)\n",
    "ax.imshow(pil_image, alpha=0.5)"
   ]
  },
  {
   "cell_type": "code",
   "execution_count": 15,
   "metadata": {
    "collapsed": false,
    "deletable": true,
    "editable": true
   },
   "outputs": [
    {
     "data": {
      "text/plain": [
       "<matplotlib.image.AxesImage at 0x7f716d767e50>"
      ]
     },
     "execution_count": 15,
     "metadata": {},
     "output_type": "execute_result"
    },
    {
     "data": {
      "image/png": "[encoded data removed]",
      "text/plain": [
       "<matplotlib.figure.Figure at 0x7f716d767c10>"
      ]
     },
     "metadata": {},
     "output_type": "display_data"
    }
   ],
   "source": [
    "ax = inspercles.nb_draw_map(pil_image, pose=pose, robot=True, particles=particulas)\n",
    "#ax.imshow(occupancy_image, alpha=0.2)\n",
    "ax.imshow(lidar_map, alpha=0.5)"
   ]
  },
  {
   "cell_type": "markdown",
   "metadata": {
    "deletable": true,
    "editable": true
   },
   "source": [
    "## Gerando uma animação"
   ]
  },
  {
   "cell_type": "code",
   "execution_count": 16,
   "metadata": {
    "collapsed": true,
    "deletable": true,
    "editable": true
   },
   "outputs": [],
   "source": [
    "# Coloque nesta lista os deslocamentos do robo\n",
    "\n",
    "movimentos = [[-10, -10, 0], [-10, 10, 0], [-10,0,0], [-10, 0, 0],\n",
    "              [0,0,math.pi/12.0], [0, 0, math.pi/12.0], [0, 0, math.pi/12],[0,0,-math.pi/4],\n",
    "              [-5, 0, 0],[-5,0,0], [-5,0,0], [-10,0,0],[-10,0,0], [-10,0,0],[-10,0,0],[-10,0,0],[-15,0,0],\n",
    "              [0,0,-math.pi/4],[0, 10, 0], [0,10,0], [0, 10, 0], [0,10,0], [0,0,math.pi/8], [0,10,0], [0,10,0], \n",
    "              [0,10,0], [0,10,0], [0,10,0],[0,10,0],\n",
    "              [0,0,-math.radians(90)],\n",
    "              [math.cos(math.pi/3)*10, math.sin(math.pi/3),0],[math.cos(math.pi/3)*10, math.sin(math.pi/3),0],[math.cos(math.pi/3)*10, math.sin(math.pi/3),0],\n",
    "              [math.cos(math.pi/3)*10, math.sin(math.pi/3),0]]"
   ]
  },
  {
   "cell_type": "code",
   "execution_count": 23,
   "metadata": {
    "collapsed": false,
    "deletable": true,
    "editable": true
   },
   "outputs": [
    {
     "name": "stdout",
     "output_type": "stream",
     "text": [
      "0.0\n",
      "157.0\n",
      "6.28318530718\n",
      "157.0\n",
      "5.38558740615\n",
      "74.3303437366\n",
      "3.5903916041\n",
      "110.887330205\n",
      "0.897597901026\n",
      "84.7584804017\n",
      "2.69279370308\n",
      "35.5105618091\n",
      "1.79519580205\n",
      "134.736780428\n",
      "4.48798950513\n",
      "153.456834322\n",
      "0.0\n",
      "157.0\n",
      "6.28318530718\n",
      "157.0\n",
      "5.38558740615\n",
      "74.3303437366\n",
      "3.5903916041\n",
      "110.887330205\n",
      "0.897597901026\n",
      "84.7584804017\n",
      "2.69279370308\n",
      "35.5105618091\n",
      "1.79519580205\n",
      "134.736780428\n",
      "4.48798950513\n",
      "153.456834322\n",
      "0.0\n",
      "157.0\n",
      "6.28318530718\n",
      "157.0\n",
      "5.38558740615\n",
      "74.3303437366\n",
      "3.5903916041\n",
      "110.887330205\n",
      "0.897597901026\n",
      "84.7584804017\n",
      "2.69279370308\n",
      "35.5105618091\n",
      "1.79519580205\n",
      "134.736780428\n",
      "4.48798950513\n",
      "153.456834322\n",
      "0.0\n",
      "157.0\n",
      "6.28318530718\n",
      "157.0\n",
      "5.38558740615\n",
      "74.3303437366\n",
      "3.5903916041\n",
      "110.887330205\n",
      "0.897597901026\n",
      "84.7584804017\n",
      "2.69279370308\n",
      "35.5105618091\n",
      "1.79519580205\n",
      "134.736780428\n",
      "4.48798950513\n",
      "153.456834322\n",
      "0.0\n",
      "157.0\n",
      "6.28318530718\n",
      "157.0\n",
      "5.38558740615\n",
      "74.3303437366\n",
      "3.5903916041\n",
      "110.887330205\n",
      "0.897597901026\n",
      "84.7584804017\n",
      "2.69279370308\n",
      "35.5105618091\n",
      "1.79519580205\n",
      "134.736780428\n",
      "4.48798950513\n",
      "153.456834322\n",
      "0.0\n",
      "157.0\n",
      "6.28318530718\n",
      "157.0\n",
      "5.38558740615\n",
      "74.3303437366\n",
      "3.5903916041\n",
      "110.887330205\n",
      "0.897597901026\n",
      "84.7584804017\n",
      "2.69279370308\n",
      "35.5105618091\n",
      "1.79519580205\n",
      "134.736780428\n",
      "4.48798950513\n",
      "153.456834322\n",
      "0.0\n",
      "157.0\n",
      "6.28318530718\n",
      "157.0\n",
      "5.38558740615\n",
      "74.3303437366\n",
      "3.5903916041\n",
      "110.887330205\n",
      "0.897597901026\n",
      "84.7584804017\n",
      "2.69279370308\n",
      "35.5105618091\n",
      "1.79519580205\n",
      "134.736780428\n",
      "4.48798950513\n",
      "153.456834322\n",
      "0.0\n",
      "157.0\n",
      "6.28318530718\n",
      "157.0\n",
      "5.38558740615\n",
      "74.3303437366\n",
      "3.5903916041\n",
      "110.887330205\n",
      "0.897597901026\n",
      "84.7584804017\n",
      "2.69279370308\n",
      "35.5105618091\n",
      "1.79519580205\n",
      "134.736780428\n",
      "4.48798950513\n",
      "153.456834322\n",
      "0.0\n",
      "157.0\n",
      "6.28318530718\n",
      "157.0\n",
      "5.38558740615\n",
      "74.3303437366\n",
      "3.5903916041\n",
      "110.887330205\n",
      "0.897597901026\n",
      "84.7584804017\n",
      "2.69279370308\n",
      "35.5105618091\n",
      "1.79519580205\n",
      "134.736780428\n",
      "4.48798950513\n",
      "153.456834322\n",
      "0.0\n",
      "157.0\n",
      "6.28318530718\n",
      "157.0\n",
      "5.38558740615\n",
      "74.3303437366\n",
      "3.5903916041\n",
      "110.887330205\n",
      "0.897597901026\n",
      "84.7584804017\n",
      "2.69279370308\n",
      "35.5105618091\n",
      "1.79519580205\n",
      "134.736780428\n",
      "4.48798950513\n",
      "153.456834322\n",
      "0.0\n",
      "157.0\n",
      "6.28318530718\n",
      "157.0\n",
      "5.38558740615\n",
      "74.3303437366\n",
      "3.5903916041\n",
      "110.887330205\n",
      "0.897597901026\n",
      "84.7584804017\n",
      "2.69279370308\n",
      "35.5105618091\n",
      "1.79519580205\n",
      "134.736780428\n",
      "4.48798950513\n",
      "153.456834322\n",
      "0.0\n",
      "157.0\n",
      "6.28318530718\n",
      "157.0\n",
      "5.38558740615\n",
      "74.3303437366\n",
      "3.5903916041\n",
      "110.887330205\n",
      "0.897597901026\n",
      "84.7584804017\n",
      "2.69279370308\n",
      "35.5105618091\n",
      "1.79519580205\n",
      "134.736780428\n",
      "4.48798950513\n",
      "153.456834322\n",
      "0.0\n",
      "157.0\n",
      "6.28318530718\n",
      "157.0\n",
      "5.38558740615\n",
      "74.3303437366\n",
      "3.5903916041\n",
      "110.887330205\n",
      "0.897597901026\n",
      "84.7584804017\n",
      "2.69279370308\n",
      "35.5105618091\n",
      "1.79519580205\n",
      "134.736780428\n",
      "4.48798950513\n",
      "153.456834322\n",
      "0.0\n",
      "157.0\n",
      "6.28318530718\n",
      "157.0\n",
      "5.38558740615\n",
      "74.3303437366\n",
      "3.5903916041\n",
      "110.887330205\n",
      "0.897597901026\n",
      "84.7584804017\n",
      "2.69279370308\n",
      "35.5105618091\n",
      "1.79519580205\n",
      "134.736780428\n",
      "4.48798950513\n",
      "153.456834322\n",
      "0.0\n",
      "157.0\n",
      "6.28318530718\n",
      "157.0\n",
      "5.38558740615\n",
      "74.3303437366\n",
      "3.5903916041\n",
      "110.887330205\n",
      "0.897597901026\n",
      "84.7584804017\n",
      "2.69279370308\n",
      "35.5105618091\n",
      "1.79519580205\n",
      "134.736780428\n",
      "4.48798950513\n",
      "153.456834322\n",
      "0.0\n",
      "157.0\n",
      "6.28318530718\n",
      "157.0\n",
      "5.38558740615\n",
      "74.3303437366\n",
      "3.5903916041\n",
      "110.887330205\n",
      "0.897597901026\n",
      "84.7584804017\n",
      "2.69279370308\n",
      "35.5105618091\n",
      "1.79519580205\n",
      "134.736780428\n",
      "4.48798950513\n",
      "153.456834322\n",
      "0.0\n",
      "157.0\n",
      "6.28318530718\n",
      "157.0\n",
      "5.38558740615\n",
      "74.3303437366\n",
      "3.5903916041\n",
      "110.887330205\n",
      "0.897597901026\n",
      "84.7584804017\n",
      "2.69279370308\n",
      "35.5105618091\n",
      "1.79519580205\n",
      "134.736780428\n",
      "4.48798950513\n",
      "153.456834322\n",
      "0.0\n",
      "157.0\n",
      "6.28318530718\n",
      "157.0\n",
      "5.38558740615\n",
      "74.3303437366\n",
      "3.5903916041\n",
      "110.887330205\n",
      "0.897597901026\n",
      "84.7584804017\n",
      "2.69279370308\n",
      "35.5105618091\n",
      "1.79519580205\n",
      "134.736780428\n",
      "4.48798950513\n",
      "153.456834322\n",
      "0.0\n",
      "157.0\n",
      "6.28318530718\n",
      "157.0\n",
      "5.38558740615\n",
      "74.3303437366\n",
      "3.5903916041\n",
      "110.887330205\n",
      "0.897597901026\n",
      "84.7584804017\n",
      "2.69279370308\n",
      "35.5105618091\n",
      "1.79519580205\n",
      "134.736780428\n",
      "4.48798950513\n",
      "153.456834322\n",
      "0.0\n",
      "157.0\n",
      "6.28318530718\n",
      "157.0\n",
      "5.38558740615\n",
      "74.3303437366\n",
      "3.5903916041\n",
      "110.887330205\n",
      "0.897597901026\n",
      "84.7584804017\n",
      "2.69279370308\n",
      "35.5105618091\n",
      "1.79519580205\n",
      "134.736780428\n",
      "4.48798950513\n",
      "153.456834322\n",
      "0.0\n",
      "157.0\n",
      "6.28318530718\n",
      "157.0\n",
      "5.38558740615\n",
      "74.3303437366\n",
      "3.5903916041\n",
      "110.887330205\n",
      "0.897597901026\n",
      "84.7584804017\n",
      "2.69279370308\n",
      "35.5105618091\n",
      "1.79519580205\n",
      "134.736780428\n",
      "4.48798950513\n",
      "153.456834322\n",
      "0.0\n",
      "157.0\n",
      "6.28318530718\n",
      "157.0\n",
      "5.38558740615\n",
      "74.3303437366\n",
      "3.5903916041\n",
      "110.887330205\n",
      "0.897597901026\n",
      "84.7584804017\n",
      "2.69279370308\n",
      "35.5105618091\n",
      "1.79519580205\n",
      "134.736780428\n",
      "4.48798950513\n",
      "153.456834322\n",
      "0.0\n",
      "157.0\n",
      "6.28318530718\n",
      "157.0\n",
      "5.38558740615\n",
      "74.3303437366\n",
      "3.5903916041\n",
      "110.887330205\n",
      "0.897597901026\n",
      "84.7584804017\n",
      "2.69279370308\n",
      "35.5105618091\n",
      "1.79519580205\n",
      "134.736780428\n",
      "4.48798950513\n",
      "153.456834322\n",
      "0.0\n",
      "157.0\n",
      "6.28318530718\n",
      "157.0\n",
      "5.38558740615\n",
      "74.3303437366\n",
      "3.5903916041\n",
      "110.887330205\n",
      "0.897597901026\n",
      "84.7584804017\n",
      "2.69279370308\n",
      "35.5105618091\n",
      "1.79519580205\n",
      "134.736780428\n",
      "4.48798950513\n",
      "153.456834322\n",
      "0.0\n",
      "157.0\n",
      "6.28318530718\n",
      "157.0\n",
      "5.38558740615\n",
      "74.3303437366\n",
      "3.5903916041\n",
      "110.887330205\n",
      "0.897597901026\n",
      "84.7584804017\n",
      "2.69279370308\n",
      "35.5105618091\n",
      "1.79519580205\n",
      "134.736780428\n",
      "4.48798950513\n",
      "153.456834322\n",
      "0.0\n",
      "157.0\n",
      "6.28318530718\n",
      "157.0\n",
      "5.38558740615\n",
      "74.3303437366\n",
      "3.5903916041\n",
      "110.887330205\n",
      "0.897597901026\n",
      "84.7584804017\n",
      "2.69279370308\n",
      "35.5105618091\n",
      "1.79519580205\n",
      "134.736780428\n",
      "4.48798950513\n",
      "153.456834322\n",
      "0.0\n",
      "157.0\n",
      "6.28318530718\n",
      "157.0\n",
      "5.38558740615\n",
      "74.3303437366\n",
      "3.5903916041\n",
      "110.887330205\n",
      "0.897597901026\n",
      "84.7584804017\n",
      "2.69279370308\n",
      "35.5105618091\n",
      "1.79519580205\n",
      "134.736780428\n",
      "4.48798950513\n",
      "153.456834322\n",
      "0.0\n",
      "157.0\n",
      "6.28318530718\n",
      "157.0\n",
      "5.38558740615\n",
      "74.3303437366\n",
      "3.5903916041\n",
      "110.887330205\n",
      "0.897597901026\n",
      "84.7584804017\n",
      "2.69279370308\n",
      "35.5105618091\n",
      "1.79519580205\n",
      "134.736780428\n",
      "4.48798950513\n",
      "153.456834322\n",
      "0.0\n",
      "157.0\n",
      "6.28318530718\n",
      "157.0\n",
      "5.38558740615\n",
      "74.3303437366\n",
      "3.5903916041\n",
      "110.887330205\n",
      "0.897597901026\n",
      "84.7584804017\n",
      "2.69279370308\n",
      "35.5105618091\n",
      "1.79519580205\n",
      "134.736780428\n",
      "4.48798950513\n",
      "153.456834322\n",
      "0.0\n",
      "157.0\n",
      "6.28318530718\n",
      "157.0\n",
      "5.38558740615\n",
      "74.3303437366\n",
      "3.5903916041\n",
      "110.887330205\n",
      "0.897597901026\n",
      "84.7584804017\n",
      "2.69279370308\n",
      "35.5105618091\n",
      "1.79519580205\n",
      "134.736780428\n",
      "4.48798950513\n",
      "153.456834322\n",
      "0.0\n",
      "157.0\n",
      "6.28318530718\n",
      "157.0\n",
      "5.38558740615\n",
      "74.3303437366\n",
      "3.5903916041\n",
      "110.887330205\n",
      "0.897597901026\n",
      "84.7584804017\n",
      "2.69279370308\n",
      "35.5105618091\n",
      "1.79519580205\n",
      "134.736780428\n",
      "4.48798950513\n",
      "153.456834322\n",
      "0.0\n",
      "157.0\n",
      "6.28318530718\n",
      "157.0\n",
      "5.38558740615\n",
      "74.3303437366\n",
      "3.5903916041\n",
      "110.887330205\n",
      "0.897597901026\n",
      "84.7584804017\n",
      "2.69279370308\n",
      "35.5105618091\n",
      "1.79519580205\n",
      "134.736780428\n",
      "4.48798950513\n",
      "153.456834322\n",
      "0.0\n",
      "157.0\n",
      "6.28318530718\n",
      "157.0\n",
      "5.38558740615\n",
      "74.3303437366\n",
      "3.5903916041\n",
      "110.887330205\n",
      "0.897597901026\n",
      "84.7584804017\n",
      "2.69279370308\n",
      "35.5105618091\n",
      "1.79519580205\n",
      "134.736780428\n",
      "4.48798950513\n",
      "153.456834322\n",
      "0.0\n",
      "157.0\n",
      "6.28318530718\n",
      "157.0\n",
      "5.38558740615\n",
      "74.3303437366\n",
      "3.5903916041\n",
      "110.887330205\n",
      "0.897597901026\n",
      "84.7584804017\n",
      "2.69279370308\n",
      "35.5105618091\n",
      "1.79519580205\n",
      "134.736780428\n",
      "4.48798950513\n",
      "153.456834322\n"
     ]
    }
   ],
   "source": [
    "\n",
    "plt.ioff() # Desliga o modo interativo, para nao aparecerem muitas imagens no meio\n",
    "\n",
    "frames = 1\n",
    "\n",
    "count = 0\n",
    "\n",
    "valor = None\n",
    "\n",
    "for delta in movimentos:\n",
    "    for i in range(len(pose)):\n",
    "        pose[i]+=delta[i]\n",
    "            \n",
    "    # Simula a leitura do lidar\n",
    "    leituras, lidar_map = inspercles.nb_simulate_lidar(pose, angles, np_image)\n",
    "\n",
    "    # Desenha as particulas\n",
    "    paticulas = fun.desvio_pd(pos_particles,delta)\n",
    "    \n",
    "    #for\n",
    "    for j in particulas[0:1]:\n",
    "        #valor = inspercles.nb_find_discrete_line_versor(j.x, j.y, j.theta)\n",
    "        valor, mapa_null =  inspercles.nb_simulate_lidar([j.x, j.y, j.theta], angles, np_image)\n",
    "        result = fun.calculo_Pdh(valor,leituras)\n",
    "        #count += 1\n",
    "        #print(count)\n",
    "    \n",
    "    \n",
    "    \n",
    "    ax = inspercles.nb_draw_map(color_image, pose=pose, robot=True, particles=paticulas)\n",
    "    #ax.imshow(occupancy_image, alph.2)\n",
    "    # Desenha o mapa do lidar\n",
    "    ax.imshow(lidar_map, alpha=0.5)\n",
    "    \n",
    "    plt.savefig(\"anim%04d.png\"%frames, bounds=\"tight\")\n",
    "    \n",
    "    frames+=1\n",
    "    plt.close('all')\n",
    "\n",
    "\n",
    "plt.ion()\n",
    "\n"
   ]
  },
  {
   "cell_type": "code",
   "execution_count": 24,
   "metadata": {
    "collapsed": false
   },
   "outputs": [
    {
     "name": "stdout",
     "output_type": "stream",
     "text": [
      "1.83139330501e+28\n"
     ]
    }
   ],
   "source": [
    "print(result)"
   ]
  },
  {
   "cell_type": "code",
   "execution_count": 25,
   "metadata": {
    "collapsed": false,
    "deletable": true,
    "editable": true,
    "scrolled": false
   },
   "outputs": [
    {
     "data": {
      "text/plain": [
       "{0.0: 157.0,\n",
       " 0.89759790102565518: 84.75848040166836,\n",
       " 1.7951958020513104: 134.73678042761748,\n",
       " 2.6927937030769655: 35.510561809129406,\n",
       " 3.5903916041026207: 110.8873302050329,\n",
       " 4.4879895051282759: 153.45683432157722,\n",
       " 5.3855874061539311: 74.33034373659252,\n",
       " 6.2831853071795862: 157.0}"
      ]
     },
     "execution_count": 25,
     "metadata": {},
     "output_type": "execute_result"
    }
   ],
   "source": [
    "valor #Zjbarra"
   ]
  },
  {
   "cell_type": "code",
   "execution_count": 26,
   "metadata": {
    "collapsed": false
   },
   "outputs": [
    {
     "data": {
      "text/plain": [
       "{0.0: 28.233548908827547,\n",
       " 0.89759790102565518: 20.028312060359884,\n",
       " 1.7951958020513104: 36.01573661591773,\n",
       " 2.6927937030769655: 93.32446921627292,\n",
       " 3.5903916041026207: 32.64133199639792,\n",
       " 4.4879895051282759: 36.95208457582699,\n",
       " 5.3855874061539311: 113.64298604511207,\n",
       " 6.2831853071795862: 28.233548908827547}"
      ]
     },
     "execution_count": 26,
     "metadata": {},
     "output_type": "execute_result"
    }
   ],
   "source": [
    "leituras #Zj"
   ]
  },
  {
   "cell_type": "markdown",
   "metadata": {
    "deletable": true,
    "editable": true
   },
   "source": [
    "Para gerar os gifs é preciso ter o pacote *imagemagick*\n",
    "\n",
    "O imagemagick pode ser obtido com o seguinte comando:\n",
    "    sudo apt-get install imagemagick \n",
    "    \n",
    "Agora vamos invocar na linha de comando o seguinte comando:\n",
    "    convert -delay 10 -loop 1 anim*png animated.gif\n",
    "    \n",
    "Este comando criou um arquivo chamado *animated.fig*, que leremos abaixo:\n",
    "    "
   ]
  },
  {
   "cell_type": "code",
   "execution_count": 21,
   "metadata": {
    "collapsed": true,
    "deletable": true,
    "editable": true
   },
   "outputs": [],
   "source": [
    "!convert -delay 10 -loop 1 anim*png animated.gif"
   ]
  },
  {
   "cell_type": "markdown",
   "metadata": {
    "deletable": true,
    "editable": true
   },
   "source": [
    "Infelizmente o IPython Notebook 2 nao parece exibir animacoes em Gif por default, mas voce pode abrir o arquivo no diretorio de trabalho e devera'  ve-lo.\n",
    "\n",
    "<img src=\"animated.gif\">"
   ]
  },
  {
   "cell_type": "code",
   "execution_count": 22,
   "metadata": {
    "collapsed": true,
    "deletable": true,
    "editable": true
   },
   "outputs": [],
   "source": [
    "#for robot_v in particulas:\n",
    "#    nb_simulate_lidar(robot_, angles, img)"
   ]
  },
  {
   "cell_type": "markdown",
   "metadata": {
    "deletable": true,
    "editable": true
   },
   "source": [
    "# ![](anim.gif)"
   ]
  },
  {
   "cell_type": "code",
   "execution_count": null,
   "metadata": {
    "collapsed": true,
    "deletable": true,
    "editable": true
   },
   "outputs": [],
   "source": []
  },
  {
   "cell_type": "code",
   "execution_count": null,
   "metadata": {
    "collapsed": true
   },
   "outputs": [],
   "source": []
  }
 ],
 "metadata": {
  "kernelspec": {
   "display_name": "Python 2",
   "language": "python",
   "name": "python2"
  },
  "language_info": {
   "codemirror_mode": {
    "name": "ipython",
    "version": 2
   },
   "file_extension": ".py",
   "mimetype": "text/x-python",
   "name": "python",
   "nbconvert_exporter": "python",
   "pygments_lexer": "ipython2",
   "version": "2.7.12"
  }
 },
 "nbformat": 4,
 "nbformat_minor": 1
}
